{
 "cells": [
  {
   "cell_type": "code",
   "execution_count": null,
   "metadata": {
    "id": "glhoh4KybWLh"
   },
   "outputs": [],
   "source": [
    "# http://www.emergentmind.com/neural-network\n",
    "# https://hmkcode.com/ai/backpropagation-step-by-step/\n",
    "# https://mattmazur.com/2015/03/17/a-step-by-step-backpropagation-example/"
   ]
  },
  {
   "cell_type": "code",
   "execution_count": null,
   "metadata": {
    "id": "e3ohV7teCRnM"
   },
   "outputs": [],
   "source": [
    "# Revisa la documentacion de python para poder instalar tensorflow.\n",
    "# Quizas alguno de las siguientes lineas sean de utilidad, o usa la suite anaconda.\n",
    "# !conda install tensorflow\n",
    "# !pip install tensorflow"
   ]
  },
  {
   "cell_type": "code",
   "execution_count": 1,
   "metadata": {},
   "outputs": [
    {
     "name": "stdout",
     "output_type": "stream",
     "text": [
      "Defaulting to user installation because normal site-packages is not writeable\n",
      "Collecting tensorflow\n",
      "  Downloading tensorflow-2.11.0-cp310-cp310-manylinux_2_17_x86_64.manylinux2014_x86_64.whl (588.3 MB)\n",
      "\u001b[2K     \u001b[38;2;114;156;31m━━━━━━━━━━━━━━━━━━━━━━━━━━━━━━━━━━━━━━━\u001b[0m \u001b[32m588.3/588.3 MB\u001b[0m \u001b[31m2.0 MB/s\u001b[0m eta \u001b[36m0:00:00\u001b[0mm eta \u001b[36m0:00:01\u001b[0m[36m0:00:05\u001b[0m\n",
      "\u001b[?25hCollecting keras<2.12,>=2.11.0\n",
      "  Downloading keras-2.11.0-py2.py3-none-any.whl (1.7 MB)\n",
      "\u001b[2K     \u001b[38;2;114;156;31m━━━━━━━━━━━━━━━━━━━━━━━━━━━━━━━━━━━━━━━━\u001b[0m \u001b[32m1.7/1.7 MB\u001b[0m \u001b[31m1.8 MB/s\u001b[0m eta \u001b[36m0:00:00\u001b[0m[36m0:00:01\u001b[0m[0m eta \u001b[36m0:00:02\u001b[0m\n",
      "\u001b[?25hRequirement already satisfied: six>=1.12.0 in /usr/lib/python3/dist-packages (from tensorflow) (1.16.0)\n",
      "Collecting flatbuffers>=2.0\n",
      "  Downloading flatbuffers-23.1.4-py2.py3-none-any.whl (26 kB)\n",
      "Collecting tensorboard<2.12,>=2.11\n",
      "  Downloading tensorboard-2.11.2-py3-none-any.whl (6.0 MB)\n",
      "\u001b[2K     \u001b[38;2;114;156;31m━━━━━━━━━━━━━━━━━━━━━━━━━━━━━━━━━━━━━━━━\u001b[0m \u001b[32m6.0/6.0 MB\u001b[0m \u001b[31m2.9 MB/s\u001b[0m eta \u001b[36m0:00:00\u001b[0mm eta \u001b[36m0:00:01\u001b[0m0:01\u001b[0m:01\u001b[0m\n",
      "\u001b[?25hCollecting grpcio<2.0,>=1.24.3\n",
      "  Downloading grpcio-1.51.1-cp310-cp310-manylinux_2_17_x86_64.manylinux2014_x86_64.whl (4.8 MB)\n",
      "\u001b[2K     \u001b[38;2;114;156;31m━━━━━━━━━━━━━━━━━━━━━━━━━━━━━━━━━━━━━━━━\u001b[0m \u001b[32m4.8/4.8 MB\u001b[0m \u001b[31m3.8 MB/s\u001b[0m eta \u001b[36m0:00:00\u001b[0mm eta \u001b[36m0:00:01\u001b[0m0:01\u001b[0m:01\u001b[0m\n",
      "\u001b[?25hRequirement already satisfied: numpy>=1.20 in /home/davedamian_/.local/lib/python3.10/site-packages (from tensorflow) (1.23.2)\n",
      "Collecting opt-einsum>=2.3.2\n",
      "  Downloading opt_einsum-3.3.0-py3-none-any.whl (65 kB)\n",
      "\u001b[2K     \u001b[38;2;114;156;31m━━━━━━━━━━━━━━━━━━━━━━━━━━━━━━━━━━━━━━━━\u001b[0m \u001b[32m65.5/65.5 KB\u001b[0m \u001b[31m3.8 MB/s\u001b[0m eta \u001b[36m0:00:00\u001b[0m\n",
      "\u001b[?25hCollecting gast<=0.4.0,>=0.2.1\n",
      "  Downloading gast-0.4.0-py3-none-any.whl (9.8 kB)\n",
      "Collecting termcolor>=1.1.0\n",
      "  Downloading termcolor-2.2.0-py3-none-any.whl (6.6 kB)\n",
      "Collecting libclang>=13.0.0\n",
      "  Downloading libclang-15.0.6.1-py2.py3-none-manylinux2010_x86_64.whl (21.5 MB)\n",
      "\u001b[2K     \u001b[38;2;114;156;31m━━━━━━━━━━━━━━━━━━━━━━━━━━━━━━━━━━━━━━━━\u001b[0m \u001b[32m21.5/21.5 MB\u001b[0m \u001b[31m3.5 MB/s\u001b[0m eta \u001b[36m0:00:00\u001b[0mm eta \u001b[36m0:00:01\u001b[0m[36m0:00:01\u001b[0m\n",
      "\u001b[?25hCollecting tensorflow-estimator<2.12,>=2.11.0\n",
      "  Downloading tensorflow_estimator-2.11.0-py2.py3-none-any.whl (439 kB)\n",
      "\u001b[2K     \u001b[38;2;114;156;31m━━━━━━━━━━━━━━━━━━━━━━━━━━━━━━━━━━━━━━━\u001b[0m \u001b[32m439.2/439.2 KB\u001b[0m \u001b[31m3.8 MB/s\u001b[0m eta \u001b[36m0:00:00\u001b[0m MB/s\u001b[0m eta \u001b[36m0:00:01\u001b[0m:01\u001b[0m\n",
      "\u001b[?25hCollecting h5py>=2.9.0\n",
      "  Downloading h5py-3.7.0-cp310-cp310-manylinux_2_12_x86_64.manylinux2010_x86_64.whl (4.5 MB)\n",
      "\u001b[2K     \u001b[38;2;114;156;31m━━━━━━━━━━━━━━━━━━━━━━━━━━━━━━━━━━━━━━━━\u001b[0m \u001b[32m4.5/4.5 MB\u001b[0m \u001b[31m3.0 MB/s\u001b[0m eta \u001b[36m0:00:00\u001b[0m[31m3.0 MB/s\u001b[0m eta \u001b[36m0:00:01\u001b[0m\n",
      "\u001b[?25hCollecting absl-py>=1.0.0\n",
      "  Downloading absl_py-1.4.0-py3-none-any.whl (126 kB)\n",
      "\u001b[2K     \u001b[38;2;114;156;31m━━━━━━━━━━━━━━━━━━━━━━━━━━━━━━━━━━━━━━━\u001b[0m \u001b[32m126.5/126.5 KB\u001b[0m \u001b[31m4.2 MB/s\u001b[0m eta \u001b[36m0:00:00\u001b[0m\n",
      "\u001b[?25hCollecting wrapt>=1.11.0\n",
      "  Downloading wrapt-1.14.1-cp310-cp310-manylinux_2_5_x86_64.manylinux1_x86_64.manylinux_2_17_x86_64.manylinux2014_x86_64.whl (77 kB)\n",
      "\u001b[2K     \u001b[38;2;114;156;31m━━━━━━━━━━━━━━━━━━━━━━━━━━━━━━━━━━━━━━━━\u001b[0m \u001b[32m77.9/77.9 KB\u001b[0m \u001b[31m5.5 MB/s\u001b[0m eta \u001b[36m0:00:00\u001b[0m\n",
      "\u001b[?25hRequirement already satisfied: setuptools in /usr/lib/python3/dist-packages (from tensorflow) (59.6.0)\n",
      "Collecting astunparse>=1.6.0\n",
      "  Downloading astunparse-1.6.3-py2.py3-none-any.whl (12 kB)\n",
      "Collecting google-pasta>=0.1.1\n",
      "  Downloading google_pasta-0.2.0-py3-none-any.whl (57 kB)\n",
      "\u001b[2K     \u001b[38;2;114;156;31m━━━━━━━━━━━━━━━━━━━━━━━━━━━━━━━━━━━━━━━━\u001b[0m \u001b[32m57.5/57.5 KB\u001b[0m \u001b[31m5.7 MB/s\u001b[0m eta \u001b[36m0:00:00\u001b[0m\n",
      "\u001b[?25hRequirement already satisfied: packaging in /home/davedamian_/.local/lib/python3.10/site-packages (from tensorflow) (21.3)\n",
      "Requirement already satisfied: protobuf<3.20,>=3.9.2 in /usr/lib/python3/dist-packages (from tensorflow) (3.12.4)\n",
      "Requirement already satisfied: typing-extensions>=3.6.6 in /home/davedamian_/.local/lib/python3.10/site-packages (from tensorflow) (4.3.0)\n",
      "Collecting tensorflow-io-gcs-filesystem>=0.23.1\n",
      "  Downloading tensorflow_io_gcs_filesystem-0.29.0-cp310-cp310-manylinux_2_12_x86_64.manylinux2010_x86_64.whl (2.4 MB)\n",
      "\u001b[2K     \u001b[38;2;114;156;31m━━━━━━━━━━━━━━━━━━━━━━━━━━━━━━━━━━━━━━━━\u001b[0m \u001b[32m2.4/2.4 MB\u001b[0m \u001b[31m2.6 MB/s\u001b[0m eta \u001b[36m0:00:00\u001b[0mm eta \u001b[36m0:00:01\u001b[0m[36m0:00:01\u001b[0m\n",
      "\u001b[?25hRequirement already satisfied: wheel<1.0,>=0.23.0 in /usr/lib/python3/dist-packages (from astunparse>=1.6.0->tensorflow) (0.37.1)\n",
      "Requirement already satisfied: requests<3,>=2.21.0 in /usr/lib/python3/dist-packages (from tensorboard<2.12,>=2.11->tensorflow) (2.25.1)\n",
      "Collecting markdown>=2.6.8\n",
      "  Downloading Markdown-3.4.1-py3-none-any.whl (93 kB)\n",
      "\u001b[2K     \u001b[38;2;114;156;31m━━━━━━━━━━━━━━━━━━━━━━━━━━━━━━━━━━━━━━━━\u001b[0m \u001b[32m93.3/93.3 KB\u001b[0m \u001b[31m10.2 MB/s\u001b[0m eta \u001b[36m0:00:00\u001b[0mm eta \u001b[36m0:00:01\u001b[0m\n",
      "\u001b[?25hCollecting werkzeug>=1.0.1\n",
      "  Downloading Werkzeug-2.2.2-py3-none-any.whl (232 kB)\n",
      "\u001b[2K     \u001b[38;2;114;156;31m━━━━━━━━━━━━━━━━━━━━━━━━━━━━━━━━━━━━━━━\u001b[0m \u001b[32m232.7/232.7 KB\u001b[0m \u001b[31m4.1 MB/s\u001b[0m eta \u001b[36m0:00:00\u001b[0m[31m4.5 MB/s\u001b[0m eta \u001b[36m0:00:01\u001b[0m\n",
      "\u001b[?25hCollecting tensorboard-plugin-wit>=1.6.0\n",
      "  Downloading tensorboard_plugin_wit-1.8.1-py3-none-any.whl (781 kB)\n",
      "\u001b[2K     \u001b[38;2;114;156;31m━━━━━━━━━━━━━━━━━━━━━━━━━━━━━━━━━━━━━━━\u001b[0m \u001b[32m781.3/781.3 KB\u001b[0m \u001b[31m2.6 MB/s\u001b[0m eta \u001b[36m0:00:00\u001b[0m MB/s\u001b[0m eta \u001b[36m0:00:01\u001b[0m:01\u001b[0m\n",
      "\u001b[?25hCollecting tensorboard-data-server<0.7.0,>=0.6.0\n",
      "  Downloading tensorboard_data_server-0.6.1-py3-none-manylinux2010_x86_64.whl (4.9 MB)\n",
      "\u001b[2K     \u001b[38;2;114;156;31m━━━━━━━━━━━━━━━━━━━━━━━━━━━━━━━━━━━━━━━━\u001b[0m \u001b[32m4.9/4.9 MB\u001b[0m \u001b[31m2.6 MB/s\u001b[0m eta \u001b[36m0:00:00\u001b[0mm eta \u001b[36m0:00:01\u001b[0m0:01\u001b[0m:01\u001b[0m\n",
      "\u001b[?25hCollecting google-auth-oauthlib<0.5,>=0.4.1\n",
      "  Downloading google_auth_oauthlib-0.4.6-py2.py3-none-any.whl (18 kB)\n",
      "Collecting google-auth<3,>=1.6.3\n",
      "  Downloading google_auth-2.16.0-py2.py3-none-any.whl (177 kB)\n",
      "\u001b[2K     \u001b[38;2;114;156;31m━━━━━━━━━━━━━━━━━━━━━━━━━━━━━━━━━━━━━━━\u001b[0m \u001b[32m177.8/177.8 KB\u001b[0m \u001b[31m2.1 MB/s\u001b[0m eta \u001b[36m0:00:00\u001b[0m[31m1.7 MB/s\u001b[0m eta \u001b[36m0:00:01\u001b[0m\n",
      "\u001b[?25hRequirement already satisfied: pyparsing!=3.0.5,>=2.0.2 in /usr/lib/python3/dist-packages (from packaging->tensorflow) (2.4.7)\n",
      "Collecting cachetools<6.0,>=2.0.0\n",
      "  Downloading cachetools-5.2.1-py3-none-any.whl (9.3 kB)\n",
      "Collecting rsa<5,>=3.1.4\n",
      "  Downloading rsa-4.9-py3-none-any.whl (34 kB)\n",
      "Collecting pyasn1-modules>=0.2.1\n",
      "  Downloading pyasn1_modules-0.2.8-py2.py3-none-any.whl (155 kB)\n",
      "\u001b[2K     \u001b[38;2;114;156;31m━━━━━━━━━━━━━━━━━━━━━━━━━━━━━━━━━━━━━━━\u001b[0m \u001b[32m155.3/155.3 KB\u001b[0m \u001b[31m1.9 MB/s\u001b[0m eta \u001b[36m0:00:00\u001b[0m MB/s\u001b[0m eta \u001b[36m0:00:01\u001b[0m:01\u001b[0m\n",
      "\u001b[?25hCollecting requests-oauthlib>=0.7.0\n",
      "  Downloading requests_oauthlib-1.3.1-py2.py3-none-any.whl (23 kB)\n",
      "Requirement already satisfied: MarkupSafe>=2.1.1 in /home/davedamian_/.local/lib/python3.10/site-packages (from werkzeug>=1.0.1->tensorboard<2.12,>=2.11->tensorflow) (2.1.1)\n",
      "Collecting pyasn1<0.5.0,>=0.4.6\n",
      "  Downloading pyasn1-0.4.8-py2.py3-none-any.whl (77 kB)\n",
      "\u001b[2K     \u001b[38;2;114;156;31m━━━━━━━━━━━━━━━━━━━━━━━━━━━━━━━━━━━━━━━━\u001b[0m \u001b[32m77.1/77.1 KB\u001b[0m \u001b[31m3.4 MB/s\u001b[0m eta \u001b[36m0:00:00\u001b[0m\n",
      "\u001b[?25hRequirement already satisfied: oauthlib>=3.0.0 in /usr/lib/python3/dist-packages (from requests-oauthlib>=0.7.0->google-auth-oauthlib<0.5,>=0.4.1->tensorboard<2.12,>=2.11->tensorflow) (3.2.0)\n",
      "Installing collected packages: tensorboard-plugin-wit, pyasn1, libclang, flatbuffers, wrapt, werkzeug, termcolor, tensorflow-io-gcs-filesystem, tensorflow-estimator, tensorboard-data-server, rsa, requests-oauthlib, pyasn1-modules, opt-einsum, markdown, keras, h5py, grpcio, google-pasta, gast, cachetools, astunparse, absl-py, google-auth, google-auth-oauthlib, tensorboard, tensorflow\n",
      "Successfully installed absl-py-1.4.0 astunparse-1.6.3 cachetools-5.2.1 flatbuffers-23.1.4 gast-0.4.0 google-auth-2.16.0 google-auth-oauthlib-0.4.6 google-pasta-0.2.0 grpcio-1.51.1 h5py-3.7.0 keras-2.11.0 libclang-15.0.6.1 markdown-3.4.1 opt-einsum-3.3.0 pyasn1-0.4.8 pyasn1-modules-0.2.8 requests-oauthlib-1.3.1 rsa-4.9 tensorboard-2.11.2 tensorboard-data-server-0.6.1 tensorboard-plugin-wit-1.8.1 tensorflow-2.11.0 tensorflow-estimator-2.11.0 tensorflow-io-gcs-filesystem-0.29.0 termcolor-2.2.0 werkzeug-2.2.2 wrapt-1.14.1\n",
      "Note: you may need to restart the kernel to use updated packages.\n"
     ]
    }
   ],
   "source": [
    "pip install tensorflow"
   ]
  },
  {
   "cell_type": "code",
   "execution_count": 48,
   "metadata": {
    "id": "DhmUvXATbWLr"
   },
   "outputs": [],
   "source": [
    "import numpy as np\n",
    "import matplotlib.pyplot as plt\n",
    "from sklearn.datasets import load_iris"
   ]
  },
  {
   "cell_type": "markdown",
   "metadata": {},
   "source": [
    "Nosinteresa resolver el problema de predicción siguiente\n",
    "$$\n",
    "\\mathbf{x}_{sepal} = \\begin{pmatrix}\n",
    "           length \\\\\n",
    "           width\n",
    "         \\end{pmatrix}\\mapsto \n",
    "  \\mathbf{y}_{petal}= \\begin{pmatrix}\n",
    "           length \\\\\n",
    "           width\n",
    "         \\end{pmatrix} \n",
    "$$\n",
    "Es decir, se trata de un problema de regresión múltiple.\n",
    "\n",
    "*We also keep the labels in a vector L, only for visualzation purposes.*"
   ]
  },
  {
   "cell_type": "code",
   "execution_count": 49,
   "metadata": {
    "colab": {
     "base_uri": "https://localhost:8080/",
     "height": 347
    },
    "id": "Pr8pwJ5ebWL0",
    "outputId": "932876f4-d0ae-4a8e-8af9-7b0f62731149"
   },
   "outputs": [
    {
     "name": "stdout",
     "output_type": "stream",
     "text": [
      "X data: (150, 2)\n",
      "Y data: (150, 2)\n",
      "L data: (150,)\n"
     ]
    }
   ],
   "source": [
    "#load the data\n",
    "iris = load_iris()\n",
    "X = iris.data[:, :2]\n",
    "Y = iris.data[:, 2:]\n",
    "L = iris.target\n",
    "\n",
    "print(\"X data:\", X.shape)\n",
    "print(\"Y data:\", Y.shape)\n",
    "print(\"L data:\", L.shape)"
   ]
  },
  {
   "cell_type": "code",
   "execution_count": 50,
   "metadata": {},
   "outputs": [
    {
     "data": {
      "image/png": "[encoded data removed]",
      "text/plain": [
       "<Figure size 864x216 with 2 Axes>"
      ]
     },
     "metadata": {
      "needs_background": "light"
     },
     "output_type": "display_data"
    }
   ],
   "source": [
    "# Plot input and output variables\n",
    "plt.figure(figsize=(12, 3))\n",
    "\n",
    "plt.subplot(1, 2, 1)\n",
    "plt.title('Input variables X')\n",
    "plt.scatter(X[L==0, 0], X[L==0, 1], c='b', label=iris.target_names[0])\n",
    "plt.scatter(X[L==1, 0], X[L==1, 1], c='r', label=iris.target_names[1])\n",
    "plt.scatter(X[L==2, 0], X[L==2, 1], c='g', label=iris.target_names[2])\n",
    "plt.legend()\n",
    "plt.grid(True)\n",
    "plt.xlabel(iris.feature_names[0])\n",
    "plt.ylabel(iris.feature_names[1])\n",
    "\n",
    "plt.subplot(1, 2, 2)\n",
    "plt.title('Output variables Y')\n",
    "plt.scatter(Y[L==0, 0], Y[L==0, 1], c='b', label=iris.target_names[0])\n",
    "plt.scatter(Y[L==1, 0], Y[L==1, 1], c='r', label=iris.target_names[1])\n",
    "plt.scatter(Y[L==2, 0], Y[L==2, 1], c='g', label=iris.target_names[2])\n",
    "plt.legend()\n",
    "plt.grid(True)\n",
    "plt.xlabel(iris.feature_names[2])\n",
    "plt.ylabel(iris.feature_names[3])\n",
    "\n",
    "plt.show()"
   ]
  },
  {
   "cell_type": "code",
   "execution_count": 51,
   "metadata": {
    "colab": {
     "base_uri": "https://localhost:8080/"
    },
    "id": "16xfdF2xbWL8",
    "outputId": "23c49484-5463-4d90-e3ea-62bf8006d046"
   },
   "outputs": [
    {
     "name": "stdout",
     "output_type": "stream",
     "text": [
      "Training + validation inputs X: (135, 2)\n",
      "Test inputs X: (15, 2)\n",
      "Training + validation outputs Y: (135, 2)\n",
      "Test outputs Y: (15, 2)\n",
      "Training + validation labels l: (135,)\n",
      "Test labels l: (15,)\n"
     ]
    }
   ],
   "source": [
    "# Split it into training and test sets\n",
    "from sklearn.model_selection import train_test_split\n",
    "x_train, x_test, y_train, y_test, l_train, l_test = train_test_split(X, Y, L, test_size=0.1)\n",
    "\n",
    "print(\"Training + validation inputs X:\", x_train.shape)\n",
    "print(\"Test inputs X:\", x_test.shape)\n",
    "print(\"Training + validation outputs Y:\", y_train.shape)\n",
    "print(\"Test outputs Y:\", y_test.shape)\n",
    "print(\"Training + validation labels l:\", l_train.shape)\n",
    "print(\"Test labels l:\", l_test.shape)"
   ]
  },
  {
   "cell_type": "code",
   "execution_count": 16,
   "metadata": {
    "id": "RXiiHm5ZZ-5g"
   },
   "outputs": [],
   "source": [
    "# Documentación de tensorflow y keras\n",
    "# https://www.tensorflow.org/\n",
    "# https://keras.io/"
   ]
  },
  {
   "cell_type": "code",
   "execution_count": 52,
   "metadata": {
    "id": "jwGu_37rbWMC"
   },
   "outputs": [],
   "source": [
    "# import tensorflow an the classes Model, Input (place-holder layer), and Dense (fully connected layer)\n",
    "import tensorflow as tf\n",
    "from tensorflow.keras.models import Model\n",
    "from tensorflow.keras.layers import Input, Dense"
   ]
  },
  {
   "cell_type": "code",
   "execution_count": 53,
   "metadata": {
    "colab": {
     "base_uri": "https://localhost:8080/"
    },
    "id": "OfZ2xl7XbWMI",
    "outputId": "0a887dc5-d3e7-4f6b-9cff-1e65b8b54513"
   },
   "outputs": [
    {
     "name": "stdout",
     "output_type": "stream",
     "text": [
      "Model: \"model_2\"\n",
      "_________________________________________________________________\n",
      " Layer (type)                Output Shape              Param #   \n",
      "=================================================================\n",
      " input (InputLayer)          [(None, 2)]               0         \n",
      "                                                                 \n",
      " output (Dense)              (None, 2)                 6         \n",
      "                                                                 \n",
      "=================================================================\n",
      "Total params: 6\n",
      "Trainable params: 6\n",
      "Non-trainable params: 0\n",
      "_________________________________________________________________\n"
     ]
    }
   ],
   "source": [
    "# Create an MLP of two inputs x=[x1, x2], and two outputs y=[y1, y2]\n",
    "i = Input(shape=(2,), name='input')\n",
    "o = Dense(units=2, activation=None, name='output')(i)\n",
    "\n",
    "MLP = Model(inputs=i, outputs=o)\n",
    "MLP.summary()"
   ]
  },
  {
   "cell_type": "markdown",
   "metadata": {},
   "source": [
    "# Q1: Revisa la documentación de `tensorflow`: ¿qué tipo de activación tiene la capa de salida de la red que acabamos de crear?"
   ]
  },
  {
   "cell_type": "markdown",
   "metadata": {},
   "source": [
    "Como se especificó `None` para la función de activación, signifca que se usa una función de activación lineal, es decir que los *inputs* son transformados vía\n",
    "$$\n",
    "s(\\mathbf{x}_{sepal})=\\mathbf{w}_0^T\\mathbf{x}_{sepal}\n",
    "$$\n",
    "con $\\mathbf{w}_0\\in\\mathbb{R}^n$ fijo."
   ]
  },
  {
   "cell_type": "markdown",
   "metadata": {},
   "source": [
    "# Q2: Según la documentación de tensorflow (y/o el código de la siguiente celda), qué estructura de datos usa tensorflow para organizar las capas de una red?"
   ]
  },
  {
   "cell_type": "markdown",
   "metadata": {},
   "source": [
    "Una matriz, cuyas filas son el vector de pesos asociado a cada capa de la red neuronal."
   ]
  },
  {
   "cell_type": "code",
   "execution_count": 54,
   "metadata": {},
   "outputs": [
    {
     "data": {
      "text/plain": [
       "[array([[ 0.23091137,  0.649207  ],\n",
       "        [ 0.7777294 , -0.07633984]], dtype=float32),\n",
       " array([0., 0.], dtype=float32)]"
      ]
     },
     "execution_count": 54,
     "metadata": {},
     "output_type": "execute_result"
    }
   ],
   "source": [
    "MLP.layers[1].get_weights()"
   ]
  },
  {
   "cell_type": "code",
   "execution_count": 55,
   "metadata": {
    "colab": {
     "base_uri": "https://localhost:8080/"
    },
    "id": "YiR10FbJbWMN",
    "outputId": "9f5fda74-220f-44d6-9b6a-c260efb76773"
   },
   "outputs": [
    {
     "name": "stdout",
     "output_type": "stream",
     "text": [
      "Initial weights: (2, 2)\n",
      "[[ 0.23091137  0.649207  ]\n",
      " [ 0.7777294  -0.07633984]]\n",
      "Initial biases (2,)\n",
      "[0. 0.]\n"
     ]
    }
   ],
   "source": [
    "# Obtain weights and biases of the hidden layer\n",
    "w1, b1 = MLP.layers[1].get_weights()\n",
    "print(\"Initial weights:\", w1.shape)\n",
    "print(w1)\n",
    "print(\"Initial biases\", b1.shape)\n",
    "print(b1)"
   ]
  },
  {
   "cell_type": "code",
   "execution_count": 56,
   "metadata": {
    "colab": {
     "base_uri": "https://localhost:8080/",
     "height": 140
    },
    "id": "yf20TvnAbWMR",
    "outputId": "4492d3fa-1366-438a-e9d6-55a1de194bf3"
   },
   "outputs": [
    {
     "name": "stdout",
     "output_type": "stream",
     "text": [
      "You must install pydot (`pip install pydot`) and install graphviz (see instructions at https://graphviz.gitlab.io/download/) for plot_model to work.\n"
     ]
    }
   ],
   "source": [
    "# Plot a diagram of the MLP model\n",
    "from tensorflow.keras.utils import plot_model\n",
    "plot_model(MLP, to_file='MLP.png', show_shapes=True, show_layer_names=True, rankdir='TB', expand_nested=True, dpi=64)"
   ]
  },
  {
   "cell_type": "code",
   "execution_count": 57,
   "metadata": {
    "id": "CJ0ZRpsibWMY"
   },
   "outputs": [],
   "source": [
    "# Here we define the optimizer and loss function\n",
    "# sgd and mse in this initial example\n",
    "MLP.compile(optimizer='sgd', loss='mse')"
   ]
  },
  {
   "cell_type": "code",
   "execution_count": 58,
   "metadata": {
    "colab": {
     "base_uri": "https://localhost:8080/"
    },
    "id": "Hzez7n_xbWMc",
    "outputId": "2d535f62-9824-4f91-c10f-97ebc20e49d4"
   },
   "outputs": [
    {
     "name": "stdout",
     "output_type": "stream",
     "text": [
      "Epoch 1/20\n",
      "27/27 [==============================] - 0s 4ms/step - loss: 1.8973 - val_loss: 1.2926\n",
      "Epoch 2/20\n",
      "27/27 [==============================] - 0s 2ms/step - loss: 1.5577 - val_loss: 1.0366\n",
      "Epoch 3/20\n",
      "27/27 [==============================] - 0s 2ms/step - loss: 1.2360 - val_loss: 0.8841\n",
      "Epoch 4/20\n",
      "27/27 [==============================] - 0s 2ms/step - loss: 1.1776 - val_loss: 0.8512\n",
      "Epoch 5/20\n",
      "27/27 [==============================] - 0s 2ms/step - loss: 1.0036 - val_loss: 0.6495\n",
      "Epoch 6/20\n",
      "27/27 [==============================] - 0s 2ms/step - loss: 0.8690 - val_loss: 0.6322\n",
      "Epoch 7/20\n",
      "27/27 [==============================] - 0s 2ms/step - loss: 0.7142 - val_loss: 0.5229\n",
      "Epoch 8/20\n",
      "27/27 [==============================] - 0s 2ms/step - loss: 0.6907 - val_loss: 0.4385\n",
      "Epoch 9/20\n",
      "27/27 [==============================] - 0s 2ms/step - loss: 0.5942 - val_loss: 0.3937\n",
      "Epoch 10/20\n",
      "27/27 [==============================] - 0s 2ms/step - loss: 0.5298 - val_loss: 0.3653\n",
      "Epoch 11/20\n",
      "27/27 [==============================] - 0s 2ms/step - loss: 0.5245 - val_loss: 0.3249\n",
      "Epoch 12/20\n",
      "27/27 [==============================] - 0s 2ms/step - loss: 0.4592 - val_loss: 0.2951\n",
      "Epoch 13/20\n",
      "27/27 [==============================] - 0s 2ms/step - loss: 0.4383 - val_loss: 0.2902\n",
      "Epoch 14/20\n",
      "27/27 [==============================] - 0s 2ms/step - loss: 0.3980 - val_loss: 0.2935\n",
      "Epoch 15/20\n",
      "27/27 [==============================] - 0s 2ms/step - loss: 0.4020 - val_loss: 0.2915\n",
      "Epoch 16/20\n",
      "27/27 [==============================] - 0s 2ms/step - loss: 0.3702 - val_loss: 0.2285\n",
      "Epoch 17/20\n",
      "27/27 [==============================] - 0s 2ms/step - loss: 0.3523 - val_loss: 0.2258\n",
      "Epoch 18/20\n",
      "27/27 [==============================] - 0s 2ms/step - loss: 0.3529 - val_loss: 0.2084\n",
      "Epoch 19/20\n",
      "27/27 [==============================] - 0s 2ms/step - loss: 0.3335 - val_loss: 0.2163\n",
      "Epoch 20/20\n",
      "27/27 [==============================] - 0s 2ms/step - loss: 0.3186 - val_loss: 0.2476\n"
     ]
    }
   ],
   "source": [
    "# And now we train the model\n",
    "# Learn to predict petal's lenght and width from sepal's lenght and width\n",
    "train_history = MLP.fit(x=x_train, y=y_train, batch_size=4, epochs=20, validation_split=0.2)"
   ]
  },
  {
   "cell_type": "code",
   "execution_count": 59,
   "metadata": {
    "colab": {
     "base_uri": "https://localhost:8080/",
     "height": 334
    },
    "id": "x7I-BOSFbgX-",
    "outputId": "e1b7c518-9a09-4223-e5d0-b7d1c048f39f"
   },
   "outputs": [
    {
     "data": {
      "image/png": "[encoded data removed]",
      "text/plain": [
       "<Figure size 864x216 with 1 Axes>"
      ]
     },
     "metadata": {
      "needs_background": "light"
     },
     "output_type": "display_data"
    }
   ],
   "source": [
    "# Plot loss (The object MLP keeps track of the training and validation performance)\n",
    "plt.figure(figsize=(12, 3))\n",
    "plt.plot(MLP.history.history['loss'], label='Training', linewidth=2)\n",
    "plt.plot(MLP.history.history['val_loss'], label='Validation', linewidth=2)\n",
    "plt.legend()\n",
    "plt.xlabel('Epoch')\n",
    "plt.ylabel('Loss')\n",
    "plt.grid(True)\n",
    "plt.show()"
   ]
  },
  {
   "cell_type": "code",
   "execution_count": 60,
   "metadata": {
    "colab": {
     "base_uri": "https://localhost:8080/"
    },
    "id": "rtHqcSQg2aQR",
    "outputId": "e85ee2fa-b8d9-4e4b-eefd-9dbbde661ab0"
   },
   "outputs": [
    {
     "name": "stdout",
     "output_type": "stream",
     "text": [
      "Initial weights: (2, 2)\n",
      "[[ 1.3736017   0.5445846 ]\n",
      " [-1.377996   -0.65357417]]\n",
      "Initial biases (2,)\n",
      "[-0.34219855 -0.15207013]\n"
     ]
    }
   ],
   "source": [
    "# Obtain weights and biases of the hidden layer after training\n",
    "w1, b1 = MLP.layers[1].get_weights()\n",
    "print(\"Initial weights:\", w1.shape)\n",
    "print(w1)\n",
    "print(\"Initial biases\", b1.shape)\n",
    "print(b1)"
   ]
  },
  {
   "cell_type": "code",
   "execution_count": 61,
   "metadata": {
    "colab": {
     "base_uri": "https://localhost:8080/"
    },
    "id": "M99b2NpEbWMi",
    "outputId": "7928bb00-2baf-4b40-972a-72a68f766910"
   },
   "outputs": [
    {
     "data": {
      "text/plain": [
       "1.108816146850586"
      ]
     },
     "execution_count": 61,
     "metadata": {},
     "output_type": "execute_result"
    }
   ],
   "source": [
    "# Use the trained model to compute the average test loss\n",
    "MLP.evaluate(x=x_test, y=y_test, verbose=False)"
   ]
  },
  {
   "cell_type": "code",
   "execution_count": 62,
   "metadata": {
    "colab": {
     "base_uri": "https://localhost:8080/"
    },
    "id": "-vkDhVD3bWMo",
    "outputId": "7ac86ea2-d11b-469b-e5bf-3231584cf2e5"
   },
   "outputs": [
    {
     "name": "stdout",
     "output_type": "stream",
     "text": [
      "1/1 [==============================] - 0s 57ms/step\n",
      "(15, 2)\n"
     ]
    }
   ],
   "source": [
    "# Now generate the predictions on the test set\n",
    "y_test_hat = MLP.predict(x=x_test)\n",
    "print(y_test_hat.shape)"
   ]
  },
  {
   "cell_type": "code",
   "execution_count": 63,
   "metadata": {
    "colab": {
     "base_uri": "https://localhost:8080/",
     "height": 295
    },
    "id": "hh43w3bRbWMs",
    "outputId": "035fb0f5-dabd-4dbf-8832-c479bfa27699"
   },
   "outputs": [
    {
     "data": {
      "image/png": "[encoded data removed]",
      "text/plain": [
       "<Figure size 432x216 with 1 Axes>"
      ]
     },
     "metadata": {
      "needs_background": "light"
     },
     "output_type": "display_data"
    }
   ],
   "source": [
    " # Plot y_test_hat\n",
    "plt.figure(figsize=(6, 3))\n",
    "plt.scatter(y_test[l_test==0, 0], y_test[l_test==0, 1], c='b', label='set y')\n",
    "plt.scatter(y_test[l_test==1, 0], y_test[l_test==1, 1], c='r', label='ver y')\n",
    "plt.scatter(y_test[l_test==2, 0], y_test[l_test==2, 1], c='g', label='vir y')\n",
    "\n",
    "plt.scatter(y_test_hat[l_test==0, 0], y_test_hat[l_test==0, 1], c='b', marker='+', label='set y_hat')\n",
    "plt.scatter(y_test_hat[l_test==1, 0], y_test_hat[l_test==1, 1], c='r', marker='+', label='ver y_hat')\n",
    "plt.scatter(y_test_hat[l_test==2, 0], y_test_hat[l_test==2, 1], c='g', marker='+', label='vir y_hat')\n",
    "\n",
    "plt.legend()\n",
    "plt.grid(True)\n",
    "plt.xlabel('petal length')\n",
    "plt.ylabel('petal width')\n",
    "plt.title('Test set and its prediction')\n",
    "plt.show()"
   ]
  },
  {
   "cell_type": "markdown",
   "metadata": {},
   "source": [
    "# Q3: En el ejercicio anterior le indicamos a *tensorflow* que separara 20% de los datos de entrenamiento para hacer validación. Dicho 20% es seleccionado de manera aleatoria. Revisa la documentación de la función `.fit()` para saber cómo puedes darle un subset de validación que no cambie entre diferentes corridas de entrenamiento. Reporta tu respuesta."
   ]
  },
  {
   "cell_type": "markdown",
   "metadata": {},
   "source": [
    "Si se especifica `validation_data` (np.arrays o tensores) en los argumentos de `Model.fit`, entonces dichso datos se usarán en cada época para evaluar pérdida o cualquier otra métrica al final de cada época."
   ]
  },
  {
   "cell_type": "code",
   "execution_count": 64,
   "metadata": {},
   "outputs": [
    {
     "name": "stdout",
     "output_type": "stream",
     "text": [
      "Epoch 1/20\n",
      "34/34 [==============================] - 0s 2ms/step - loss: 0.2845 - val_loss: 0.7860\n",
      "Epoch 2/20\n",
      "34/34 [==============================] - 0s 2ms/step - loss: 0.2993 - val_loss: 0.8990\n",
      "Epoch 3/20\n",
      "34/34 [==============================] - 0s 1ms/step - loss: 0.2862 - val_loss: 0.8361\n",
      "Epoch 4/20\n",
      "34/34 [==============================] - 0s 2ms/step - loss: 0.2670 - val_loss: 0.6381\n",
      "Epoch 5/20\n",
      "34/34 [==============================] - 0s 2ms/step - loss: 0.2718 - val_loss: 0.8836\n",
      "Epoch 6/20\n",
      "34/34 [==============================] - 0s 1ms/step - loss: 0.2838 - val_loss: 0.9445\n",
      "Epoch 7/20\n",
      "34/34 [==============================] - 0s 1ms/step - loss: 0.2753 - val_loss: 0.8457\n",
      "Epoch 8/20\n",
      "34/34 [==============================] - 0s 2ms/step - loss: 0.2818 - val_loss: 0.9669\n",
      "Epoch 9/20\n",
      "34/34 [==============================] - 0s 2ms/step - loss: 0.2798 - val_loss: 0.8133\n",
      "Epoch 10/20\n",
      "34/34 [==============================] - 0s 1ms/step - loss: 0.2621 - val_loss: 0.7616\n",
      "Epoch 11/20\n",
      "34/34 [==============================] - 0s 1ms/step - loss: 0.2905 - val_loss: 0.6528\n",
      "Epoch 12/20\n",
      "34/34 [==============================] - 0s 2ms/step - loss: 0.2482 - val_loss: 1.1028\n",
      "Epoch 13/20\n",
      "34/34 [==============================] - 0s 2ms/step - loss: 0.2718 - val_loss: 0.8527\n",
      "Epoch 14/20\n",
      "34/34 [==============================] - 0s 2ms/step - loss: 0.2726 - val_loss: 0.9200\n",
      "Epoch 15/20\n",
      "34/34 [==============================] - 0s 1ms/step - loss: 0.2700 - val_loss: 1.1055\n",
      "Epoch 16/20\n",
      "34/34 [==============================] - 0s 1ms/step - loss: 0.2872 - val_loss: 1.1313\n",
      "Epoch 17/20\n",
      "34/34 [==============================] - 0s 1ms/step - loss: 0.2697 - val_loss: 0.9845\n",
      "Epoch 18/20\n",
      "34/34 [==============================] - 0s 1ms/step - loss: 0.2759 - val_loss: 0.7072\n",
      "Epoch 19/20\n",
      "34/34 [==============================] - 0s 1ms/step - loss: 0.2755 - val_loss: 0.7554\n",
      "Epoch 20/20\n",
      "34/34 [==============================] - 0s 1ms/step - loss: 0.2568 - val_loss: 0.8013\n"
     ]
    }
   ],
   "source": [
    "train_history = MLP.fit(x=x_train, y=y_train, batch_size=4, epochs=20, validation_data=(x_test,y_test))"
   ]
  },
  {
   "cell_type": "code",
   "execution_count": 65,
   "metadata": {},
   "outputs": [
    {
     "name": "stdout",
     "output_type": "stream",
     "text": [
      "Initial weights: (2, 2)\n",
      "[[ 1.598028   0.6030291]\n",
      " [-1.6493404 -0.6953226]]\n",
      "Initial biases (2,)\n",
      "[-0.48368445 -0.22437072]\n"
     ]
    }
   ],
   "source": [
    "# Obtain weights and biases of the hidden layer after training\n",
    "w1, b1 = MLP.layers[1].get_weights()\n",
    "print(\"Initial weights:\", w1.shape)\n",
    "print(w1)\n",
    "print(\"Initial biases\", b1.shape)\n",
    "print(b1)"
   ]
  },
  {
   "cell_type": "code",
   "execution_count": 66,
   "metadata": {},
   "outputs": [
    {
     "data": {
      "text/plain": [
       "0.8012653589248657"
      ]
     },
     "execution_count": 66,
     "metadata": {},
     "output_type": "execute_result"
    }
   ],
   "source": [
    "# Use the trained model to compute the average test loss\n",
    "MLP.evaluate(x=x_test, y=y_test, verbose=False)"
   ]
  },
  {
   "cell_type": "markdown",
   "metadata": {},
   "source": [
    "# Creando un MLP más grande"
   ]
  },
  {
   "cell_type": "code",
   "execution_count": 67,
   "metadata": {
    "colab": {
     "base_uri": "https://localhost:8080/"
    },
    "id": "hpystfDabWMw",
    "outputId": "501e947c-ead5-4c56-9027-512f8b079626"
   },
   "outputs": [
    {
     "name": "stdout",
     "output_type": "stream",
     "text": [
      "Model: \"model_3\"\n",
      "_________________________________________________________________\n",
      " Layer (type)                Output Shape              Param #   \n",
      "=================================================================\n",
      " input (InputLayer)          [(None, 2)]               0         \n",
      "                                                                 \n",
      " hidden1 (Dense)             (None, 32)                96        \n",
      "                                                                 \n",
      " hidden2 (Dense)             (None, 64)                2112      \n",
      "                                                                 \n",
      " hidden3 (Dense)             (None, 32)                2080      \n",
      "                                                                 \n",
      " output (Dense)              (None, 2)                 66        \n",
      "                                                                 \n",
      "=================================================================\n",
      "Total params: 4,354\n",
      "Trainable params: 4,354\n",
      "Non-trainable params: 0\n",
      "_________________________________________________________________\n"
     ]
    }
   ],
   "source": [
    "i = Input(shape=(2,), name='input')\n",
    "h = Dense(units=32, activation='relu', name='hidden1')(i)\n",
    "h = Dense(units=64, activation='relu', name='hidden2')(h)\n",
    "h = Dense(units=32, activation='relu', name='hidden3')(h)\n",
    "o = Dense(units=2, activation='linear', name='output')(h)\n",
    "\n",
    "MLP = Model(inputs=i, outputs=o)\n",
    "MLP.summary()"
   ]
  },
  {
   "cell_type": "code",
   "execution_count": 68,
   "metadata": {
    "id": "x3Gj9q4VbWM0"
   },
   "outputs": [],
   "source": [
    "# Compile it\n",
    "MLP.compile(optimizer='sgd', loss='mse')"
   ]
  },
  {
   "cell_type": "code",
   "execution_count": 72,
   "metadata": {
    "colab": {
     "base_uri": "https://localhost:8080/"
    },
    "id": "5yvl3ggEbWM4",
    "outputId": "500d760a-9c43-4c83-abd0-1034fcb6c3b2"
   },
   "outputs": [
    {
     "name": "stdout",
     "output_type": "stream",
     "text": [
      "Epoch 1/20\n",
      "27/27 - 0s - loss: 0.3253 - val_loss: 0.1270 - 71ms/epoch - 3ms/step\n",
      "Epoch 2/20\n",
      "27/27 - 0s - loss: 0.2750 - val_loss: 0.7366 - 46ms/epoch - 2ms/step\n",
      "Epoch 3/20\n",
      "27/27 - 0s - loss: 0.4419 - val_loss: 0.1319 - 45ms/epoch - 2ms/step\n",
      "Epoch 4/20\n",
      "27/27 - 0s - loss: 0.2649 - val_loss: 0.5560 - 46ms/epoch - 2ms/step\n",
      "Epoch 5/20\n",
      "27/27 - 0s - loss: 0.3207 - val_loss: 0.1817 - 43ms/epoch - 2ms/step\n",
      "Epoch 6/20\n",
      "27/27 - 0s - loss: 0.2831 - val_loss: 0.1284 - 48ms/epoch - 2ms/step\n",
      "Epoch 7/20\n",
      "27/27 - 0s - loss: 0.2741 - val_loss: 0.1437 - 48ms/epoch - 2ms/step\n",
      "Epoch 8/20\n",
      "27/27 - 0s - loss: 0.2437 - val_loss: 0.1303 - 49ms/epoch - 2ms/step\n",
      "Epoch 9/20\n",
      "27/27 - 0s - loss: 0.3890 - val_loss: 0.1244 - 46ms/epoch - 2ms/step\n",
      "Epoch 10/20\n",
      "27/27 - 0s - loss: 0.2446 - val_loss: 0.1990 - 46ms/epoch - 2ms/step\n",
      "Epoch 11/20\n",
      "27/27 - 0s - loss: 0.3140 - val_loss: 0.1298 - 51ms/epoch - 2ms/step\n",
      "Epoch 12/20\n",
      "27/27 - 0s - loss: 0.3791 - val_loss: 0.1255 - 50ms/epoch - 2ms/step\n",
      "Epoch 13/20\n",
      "27/27 - 0s - loss: 0.2336 - val_loss: 0.1599 - 47ms/epoch - 2ms/step\n",
      "Epoch 14/20\n",
      "27/27 - 0s - loss: 0.2757 - val_loss: 0.1409 - 47ms/epoch - 2ms/step\n",
      "Epoch 15/20\n",
      "27/27 - 0s - loss: 0.2344 - val_loss: 0.4723 - 46ms/epoch - 2ms/step\n",
      "Epoch 16/20\n",
      "27/27 - 0s - loss: 0.2797 - val_loss: 0.2748 - 44ms/epoch - 2ms/step\n",
      "Epoch 17/20\n",
      "27/27 - 0s - loss: 0.2044 - val_loss: 0.2864 - 44ms/epoch - 2ms/step\n",
      "Epoch 18/20\n",
      "27/27 - 0s - loss: 0.2358 - val_loss: 0.1811 - 45ms/epoch - 2ms/step\n",
      "Epoch 19/20\n",
      "27/27 - 0s - loss: 0.2036 - val_loss: 0.1436 - 44ms/epoch - 2ms/step\n",
      "Epoch 20/20\n",
      "27/27 - 0s - loss: 0.2423 - val_loss: 0.2255 - 45ms/epoch - 2ms/step\n"
     ]
    }
   ],
   "source": [
    "# Train it\n",
    "train_history = MLP.fit(x=x_train, y=y_train, batch_size=4, epochs=20, verbose=2, validation_split=0.2)"
   ]
  },
  {
   "cell_type": "code",
   "execution_count": 73,
   "metadata": {
    "colab": {
     "base_uri": "https://localhost:8080/",
     "height": 334
    },
    "id": "ke48v-Am2Jsz",
    "outputId": "fa1b41ed-a490-49f6-bad5-82bbaa33201b"
   },
   "outputs": [
    {
     "data": {
      "image/png": "[encoded data removed]",
      "text/plain": [
       "<Figure size 864x216 with 1 Axes>"
      ]
     },
     "metadata": {
      "needs_background": "light"
     },
     "output_type": "display_data"
    }
   ],
   "source": [
    "# Plot loss (The object MLP keeps track of the training and validation performance)\n",
    "plt.figure(figsize=(12, 3))\n",
    "plt.plot(MLP.history.history['loss'], label='Training', linewidth=2)\n",
    "plt.plot(MLP.history.history['val_loss'], label='Validation', linewidth=2)\n",
    "plt.legend()\n",
    "plt.xlabel('Epoch')\n",
    "plt.ylabel('Loss')\n",
    "plt.grid(True)\n",
    "plt.show()"
   ]
  },
  {
   "cell_type": "markdown",
   "metadata": {},
   "source": [
    "# Q4: Nota que esta segunda red, aunque más grande, parece generar peores resultados en comparación con la primera red. Encuentra la mejor combinación de hiperparámetros para minimizar el error tanto como sea posible. \n",
    "\n",
    "## Reporta: número de capas, número de perceptrones en cada capa, número total de pesos, tamaño del lote, y número de épocas."
   ]
  },
  {
   "cell_type": "code",
   "execution_count": 256,
   "metadata": {},
   "outputs": [
    {
     "name": "stdout",
     "output_type": "stream",
     "text": [
      "Model: \"model_37\"\n",
      "_________________________________________________________________\n",
      " Layer (type)                Output Shape              Param #   \n",
      "=================================================================\n",
      " input (InputLayer)          [(None, 2)]               0         \n",
      "                                                                 \n",
      " hidden4 (Dense)             (None, 64)                192       \n",
      "                                                                 \n",
      " output (Dense)              (None, 2)                 130       \n",
      "                                                                 \n",
      "=================================================================\n",
      "Total params: 322\n",
      "Trainable params: 322\n",
      "Non-trainable params: 0\n",
      "_________________________________________________________________\n"
     ]
    }
   ],
   "source": [
    "i = Input(shape=(2,), name='input')\n",
    "h = Dense(units=64, activation='relu', name='hidden4')(i)\n",
    "o = Dense(units=2, activation='relu', name='output')(h)\n",
    "MLP = Model(inputs=i, outputs=o)\n",
    "MLP.summary()"
   ]
  },
  {
   "cell_type": "code",
   "execution_count": 257,
   "metadata": {},
   "outputs": [],
   "source": [
    "# Compile it\n",
    "MLP.compile(optimizer='sgd', loss='mse')"
   ]
  },
  {
   "cell_type": "code",
   "execution_count": 258,
   "metadata": {},
   "outputs": [
    {
     "name": "stdout",
     "output_type": "stream",
     "text": [
      "Epoch 1/60\n",
      "27/27 - 0s - loss: 1.8464 - val_loss: 0.7777 - 435ms/epoch - 16ms/step\n",
      "Epoch 2/60\n",
      "27/27 - 0s - loss: 0.9744 - val_loss: 0.5809 - 79ms/epoch - 3ms/step\n",
      "Epoch 3/60\n",
      "27/27 - 0s - loss: 0.6995 - val_loss: 0.6349 - 67ms/epoch - 2ms/step\n",
      "Epoch 4/60\n",
      "27/27 - 0s - loss: 0.5794 - val_loss: 0.3833 - 66ms/epoch - 2ms/step\n",
      "Epoch 5/60\n",
      "27/27 - 0s - loss: 0.5286 - val_loss: 0.3840 - 68ms/epoch - 3ms/step\n",
      "Epoch 6/60\n",
      "27/27 - 0s - loss: 0.5118 - val_loss: 0.2118 - 71ms/epoch - 3ms/step\n",
      "Epoch 7/60\n",
      "27/27 - 0s - loss: 0.5370 - val_loss: 0.2624 - 85ms/epoch - 3ms/step\n",
      "Epoch 8/60\n",
      "27/27 - 0s - loss: 0.3555 - val_loss: 0.4921 - 72ms/epoch - 3ms/step\n",
      "Epoch 9/60\n",
      "27/27 - 0s - loss: 0.3640 - val_loss: 0.1646 - 67ms/epoch - 2ms/step\n",
      "Epoch 10/60\n",
      "27/27 - 0s - loss: 0.3911 - val_loss: 0.1682 - 75ms/epoch - 3ms/step\n",
      "Epoch 11/60\n",
      "27/27 - 0s - loss: 0.3645 - val_loss: 0.1625 - 82ms/epoch - 3ms/step\n",
      "Epoch 12/60\n",
      "27/27 - 0s - loss: 0.3202 - val_loss: 0.1577 - 68ms/epoch - 3ms/step\n",
      "Epoch 13/60\n",
      "27/27 - 0s - loss: 0.3005 - val_loss: 0.3041 - 61ms/epoch - 2ms/step\n",
      "Epoch 14/60\n",
      "27/27 - 0s - loss: 0.3361 - val_loss: 0.1745 - 70ms/epoch - 3ms/step\n",
      "Epoch 15/60\n",
      "27/27 - 0s - loss: 0.3294 - val_loss: 0.3071 - 65ms/epoch - 2ms/step\n",
      "Epoch 16/60\n",
      "27/27 - 0s - loss: 0.3816 - val_loss: 0.2556 - 60ms/epoch - 2ms/step\n",
      "Epoch 17/60\n",
      "27/27 - 0s - loss: 0.3234 - val_loss: 0.1775 - 63ms/epoch - 2ms/step\n",
      "Epoch 18/60\n",
      "27/27 - 0s - loss: 0.3660 - val_loss: 0.1589 - 62ms/epoch - 2ms/step\n",
      "Epoch 19/60\n",
      "27/27 - 0s - loss: 0.3072 - val_loss: 0.1558 - 60ms/epoch - 2ms/step\n",
      "Epoch 20/60\n",
      "27/27 - 0s - loss: 0.3590 - val_loss: 0.1514 - 60ms/epoch - 2ms/step\n",
      "Epoch 21/60\n",
      "27/27 - 0s - loss: 0.2672 - val_loss: 0.1692 - 57ms/epoch - 2ms/step\n",
      "Epoch 22/60\n",
      "27/27 - 0s - loss: 0.3112 - val_loss: 0.1454 - 61ms/epoch - 2ms/step\n",
      "Epoch 23/60\n",
      "27/27 - 0s - loss: 0.3192 - val_loss: 0.1779 - 70ms/epoch - 3ms/step\n",
      "Epoch 24/60\n",
      "27/27 - 0s - loss: 0.2607 - val_loss: 0.1504 - 62ms/epoch - 2ms/step\n",
      "Epoch 25/60\n",
      "27/27 - 0s - loss: 0.3169 - val_loss: 0.1830 - 64ms/epoch - 2ms/step\n",
      "Epoch 26/60\n",
      "27/27 - 0s - loss: 0.2925 - val_loss: 0.2194 - 63ms/epoch - 2ms/step\n",
      "Epoch 27/60\n",
      "27/27 - 0s - loss: 0.3131 - val_loss: 0.1557 - 59ms/epoch - 2ms/step\n",
      "Epoch 28/60\n",
      "27/27 - 0s - loss: 0.3264 - val_loss: 0.2222 - 59ms/epoch - 2ms/step\n",
      "Epoch 29/60\n",
      "27/27 - 0s - loss: 0.3239 - val_loss: 0.1478 - 63ms/epoch - 2ms/step\n",
      "Epoch 30/60\n",
      "27/27 - 0s - loss: 0.2785 - val_loss: 0.1579 - 64ms/epoch - 2ms/step\n",
      "Epoch 31/60\n",
      "27/27 - 0s - loss: 0.2470 - val_loss: 0.6148 - 65ms/epoch - 2ms/step\n",
      "Epoch 32/60\n",
      "27/27 - 0s - loss: 0.2971 - val_loss: 0.1412 - 62ms/epoch - 2ms/step\n",
      "Epoch 33/60\n",
      "27/27 - 0s - loss: 0.2724 - val_loss: 0.1407 - 66ms/epoch - 2ms/step\n",
      "Epoch 34/60\n",
      "27/27 - 0s - loss: 0.2849 - val_loss: 0.1502 - 64ms/epoch - 2ms/step\n",
      "Epoch 35/60\n",
      "27/27 - 0s - loss: 0.3016 - val_loss: 0.2296 - 64ms/epoch - 2ms/step\n",
      "Epoch 36/60\n",
      "27/27 - 0s - loss: 0.2821 - val_loss: 0.1353 - 73ms/epoch - 3ms/step\n",
      "Epoch 37/60\n",
      "27/27 - 0s - loss: 0.2783 - val_loss: 0.3711 - 63ms/epoch - 2ms/step\n",
      "Epoch 38/60\n",
      "27/27 - 0s - loss: 0.2546 - val_loss: 0.1671 - 66ms/epoch - 2ms/step\n",
      "Epoch 39/60\n",
      "27/27 - 0s - loss: 0.2621 - val_loss: 0.1417 - 63ms/epoch - 2ms/step\n",
      "Epoch 40/60\n",
      "27/27 - 0s - loss: 0.2736 - val_loss: 0.1336 - 65ms/epoch - 2ms/step\n",
      "Epoch 41/60\n",
      "27/27 - 0s - loss: 0.2577 - val_loss: 0.1762 - 61ms/epoch - 2ms/step\n",
      "Epoch 42/60\n",
      "27/27 - 0s - loss: 0.2441 - val_loss: 0.2453 - 78ms/epoch - 3ms/step\n",
      "Epoch 43/60\n",
      "27/27 - 0s - loss: 0.2670 - val_loss: 0.1365 - 71ms/epoch - 3ms/step\n",
      "Epoch 44/60\n",
      "27/27 - 0s - loss: 0.2617 - val_loss: 0.2157 - 62ms/epoch - 2ms/step\n",
      "Epoch 45/60\n",
      "27/27 - 0s - loss: 0.3049 - val_loss: 0.1985 - 63ms/epoch - 2ms/step\n",
      "Epoch 46/60\n",
      "27/27 - 0s - loss: 0.2521 - val_loss: 0.1373 - 66ms/epoch - 2ms/step\n",
      "Epoch 47/60\n",
      "27/27 - 0s - loss: 0.2575 - val_loss: 0.2855 - 64ms/epoch - 2ms/step\n",
      "Epoch 48/60\n",
      "27/27 - 0s - loss: 0.2824 - val_loss: 0.1312 - 65ms/epoch - 2ms/step\n",
      "Epoch 49/60\n",
      "27/27 - 0s - loss: 0.2196 - val_loss: 0.2095 - 63ms/epoch - 2ms/step\n",
      "Epoch 50/60\n",
      "27/27 - 0s - loss: 0.2176 - val_loss: 0.1471 - 62ms/epoch - 2ms/step\n",
      "Epoch 51/60\n",
      "27/27 - 0s - loss: 0.2373 - val_loss: 0.1315 - 62ms/epoch - 2ms/step\n",
      "Epoch 52/60\n",
      "27/27 - 0s - loss: 0.2298 - val_loss: 0.2442 - 65ms/epoch - 2ms/step\n",
      "Epoch 53/60\n",
      "27/27 - 0s - loss: 0.2679 - val_loss: 0.1529 - 66ms/epoch - 2ms/step\n",
      "Epoch 54/60\n",
      "27/27 - 0s - loss: 0.2642 - val_loss: 0.1423 - 61ms/epoch - 2ms/step\n",
      "Epoch 55/60\n",
      "27/27 - 0s - loss: 0.2340 - val_loss: 0.1269 - 66ms/epoch - 2ms/step\n",
      "Epoch 56/60\n",
      "27/27 - 0s - loss: 0.2383 - val_loss: 0.1391 - 58ms/epoch - 2ms/step\n",
      "Epoch 57/60\n",
      "27/27 - 0s - loss: 0.2191 - val_loss: 0.1315 - 61ms/epoch - 2ms/step\n",
      "Epoch 58/60\n",
      "27/27 - 0s - loss: 0.2026 - val_loss: 0.1423 - 61ms/epoch - 2ms/step\n",
      "Epoch 59/60\n",
      "27/27 - 0s - loss: 0.2526 - val_loss: 0.1569 - 63ms/epoch - 2ms/step\n",
      "Epoch 60/60\n",
      "27/27 - 0s - loss: 0.2464 - val_loss: 0.1971 - 66ms/epoch - 2ms/step\n"
     ]
    }
   ],
   "source": [
    "# Train it\n",
    "train_history = MLP.fit(x=x_train, y=y_train, batch_size=4, epochs=60, verbose=2, validation_split=0.2)"
   ]
  },
  {
   "cell_type": "code",
   "execution_count": 259,
   "metadata": {},
   "outputs": [
    {
     "data": {
      "image/png": "[encoded data removed]",
      "text/plain": [
       "<Figure size 864x216 with 1 Axes>"
      ]
     },
     "metadata": {
      "needs_background": "light"
     },
     "output_type": "display_data"
    }
   ],
   "source": [
    "# Plot loss (The object MLP keeps track of the training and validation performance)\n",
    "plt.figure(figsize=(12, 3))\n",
    "plt.plot(MLP.history.history['loss'], label='Training', linewidth=2)\n",
    "plt.plot(MLP.history.history['val_loss'], label='Validation', linewidth=2)\n",
    "plt.legend()\n",
    "plt.xlabel('Epoch')\n",
    "plt.ylabel('Loss')\n",
    "plt.grid(True)\n",
    "plt.show()"
   ]
  },
  {
   "cell_type": "code",
   "execution_count": 260,
   "metadata": {
    "colab": {
     "base_uri": "https://localhost:8080/"
    },
    "id": "pE6qPetP2ywl",
    "outputId": "0c1203c4-7a13-495e-8957-8e8804532d21"
   },
   "outputs": [
    {
     "name": "stdout",
     "output_type": "stream",
     "text": [
      "Weights:  (2, 64)\tBiases:   (64,)\n",
      "Weights:  (64, 2)\tBiases:   (2,)\n"
     ]
    }
   ],
   "source": [
    "# Obtain weights and biases of the hidden layer\n",
    "for layer in MLP.layers[1:]:\n",
    "  w, b = layer.get_weights()\n",
    "  print(\"Weights: \", w.shape, end='\\t') #print(w)\n",
    "  print(\"Biases:  \", b.shape) #print(b)"
   ]
  },
  {
   "cell_type": "code",
   "execution_count": 262,
   "metadata": {
    "colab": {
     "base_uri": "https://localhost:8080/"
    },
    "id": "PcSe0ybzbWM7",
    "outputId": "512f6c41-a3cc-4569-80a6-629f17d7da41"
   },
   "outputs": [
    {
     "name": "stdout",
     "output_type": "stream",
     "text": [
      "0.2492336630821228\n",
      "0.898483157157898\n"
     ]
    }
   ],
   "source": [
    "# Use the trained model to compute the average train and test loss\n",
    "print(MLP.evaluate(x=x_train, y=y_train, verbose=False))\n",
    "print(MLP.evaluate(x=x_test, y=y_test, verbose=False))"
   ]
  },
  {
   "cell_type": "code",
   "execution_count": 213,
   "metadata": {
    "colab": {
     "base_uri": "https://localhost:8080/"
    },
    "id": "WgIBxyqobWNA",
    "outputId": "8df59269-7567-4f9f-b0c1-521663faa9f9"
   },
   "outputs": [
    {
     "name": "stdout",
     "output_type": "stream",
     "text": [
      "1/1 [==============================] - 0s 80ms/step\n",
      "(15, 2)\n"
     ]
    }
   ],
   "source": [
    "# Now generate the predictions on the test set\n",
    "y_test_hat = MLP.predict(x=x_test)\n",
    "print(y_test_hat.shape)"
   ]
  },
  {
   "cell_type": "code",
   "execution_count": 235,
   "metadata": {
    "colab": {
     "base_uri": "https://localhost:8080/",
     "height": 295
    },
    "id": "fgU_z-yiRus-",
    "outputId": "bb7749d8-8c93-4c28-fc73-fe55831bbd80"
   },
   "outputs": [
    {
     "data": {
      "image/png": "[encoded data removed]",
      "text/plain": [
       "<Figure size 576x576 with 1 Axes>"
      ]
     },
     "metadata": {
      "needs_background": "light"
     },
     "output_type": "display_data"
    }
   ],
   "source": [
    " # Plot y_test_hat\n",
    "plt.figure(figsize=(8, 8))\n",
    "plt.scatter(y_test[l_test==0, 0], y_test[l_test==0, 1], c='b', label='set y')\n",
    "plt.scatter(y_test[l_test==1, 0], y_test[l_test==1, 1], c='r', label='ver y')\n",
    "plt.scatter(y_test[l_test==2, 0], y_test[l_test==2, 1], c='g', label='vir y')\n",
    "\n",
    "plt.scatter(y_test_hat[l_test==0, 0], y_test_hat[l_test==0, 1], c='b', marker='+', label='set y_hat')\n",
    "plt.scatter(y_test_hat[l_test==1, 0], y_test_hat[l_test==1, 1], c='r', marker='+', label='ver y_hat')\n",
    "plt.scatter(y_test_hat[l_test==2, 0], y_test_hat[l_test==2, 1], c='g', marker='+', label='vir y_hat')\n",
    "\n",
    "plt.legend()\n",
    "plt.grid(True)\n",
    "plt.xlabel('petal length')\n",
    "plt.ylabel('petal width')\n",
    "plt.title('Test set and its prediction')\n",
    "plt.show()"
   ]
  },
  {
   "cell_type": "code",
   "execution_count": null,
   "metadata": {
    "id": "ostTTvo_7A6q"
   },
   "outputs": [],
   "source": [
    "# Auxiliar function to create an MLP\n",
    "def create_MLP(n_units=[2, 1], hid_activations=None, last_activation=None):\n",
    "  h = i = Input(shape=(n_units[0]))\n",
    "  for units in n_units[1:-1]:\n",
    "    h = Dense(units=units, activation=hid_activations)(h)\n",
    "  o = Dense(units=n_units[-1], activation=last_activation)(h)\n",
    "  return Model(inputs=i, outputs=o)"
   ]
  },
  {
   "cell_type": "code",
   "execution_count": 275,
   "metadata": {},
   "outputs": [
    {
     "name": "stdout",
     "output_type": "stream",
     "text": [
      "Model: \"model_50\"\n",
      "_________________________________________________________________\n",
      " Layer (type)                Output Shape              Param #   \n",
      "=================================================================\n",
      " input_13 (InputLayer)       [(None, 2)]               0         \n",
      "                                                                 \n",
      " dense_48 (Dense)            (None, 32)                96        \n",
      "                                                                 \n",
      " dense_49 (Dense)            (None, 16)                528       \n",
      "                                                                 \n",
      " dense_50 (Dense)            (None, 8)                 136       \n",
      "                                                                 \n",
      " dense_51 (Dense)            (None, 2)                 18        \n",
      "                                                                 \n",
      "=================================================================\n",
      "Total params: 778\n",
      "Trainable params: 778\n",
      "Non-trainable params: 0\n",
      "_________________________________________________________________\n",
      "You must install pydot (`pip install pydot`) and install graphviz (see instructions at https://graphviz.gitlab.io/download/) for plot_model to work.\n"
     ]
    }
   ],
   "source": [
    "# Example using the function create_MLP()\n",
    "MLP = create_MLP([2, 32, 16, 8, 2], hid_activations='sigmoid', last_activation='relu')\n",
    "MLP.summary()\n",
    "\n",
    "plot_model(MLP, to_file='MLP.png', show_shapes=True, show_layer_names=True, rankdir='TB', expand_nested=True, dpi=64)"
   ]
  },
  {
   "cell_type": "code",
   "execution_count": 276,
   "metadata": {
    "colab": {
     "base_uri": "https://localhost:8080/"
    },
    "id": "zN_Vj0e2568J",
    "outputId": "5ce48ea3-4afc-4c9d-fb0a-5d133bb5e084"
   },
   "outputs": [
    {
     "name": "stdout",
     "output_type": "stream",
     "text": [
      "Run   1 -- Train loss: 2.4229; Test loss: 3.2604\n",
      "Run   2 -- Train loss: 2.4211; Test loss: 3.2014\n",
      "Run   3 -- Train loss: 9.1619; Test loss: 13.7113\n",
      "Run   4 -- Train loss: 8.5093; Test loss: 12.3609\n",
      "Run   5 -- Train loss: 8.5147; Test loss: 12.3546\n",
      "Run   6 -- Train loss: 9.1619; Test loss: 13.7113\n",
      "Run   7 -- Train loss: 8.5123; Test loss: 12.3442\n",
      "Run   8 -- Train loss: 8.5076; Test loss: 12.3401\n",
      "Run   9 -- Train loss: 8.5119; Test loss: 12.3488\n",
      "Run  10 -- Train loss: 8.5134; Test loss: 12.3431\n",
      "Run  11 -- Train loss: 9.1619; Test loss: 13.7113\n",
      "Run  12 -- Train loss: 2.4402; Test loss: 3.2227\n",
      "Run  13 -- Train loss: 8.5104; Test loss: 12.3312\n",
      "Run  14 -- Train loss: 8.5171; Test loss: 12.3537\n",
      "Run  15 -- Train loss: 2.4438; Test loss: 3.2202\n",
      "Run  16 -- Train loss: 8.5125; Test loss: 12.3391\n",
      "Run  17 -- Train loss: 9.1619; Test loss: 13.7113\n",
      "Run  18 -- Train loss: 9.1619; Test loss: 13.7113\n",
      "Run  19 -- Train loss: 1.7344; Test loss: 1.7817\n",
      "Run  20 -- Train loss: 2.4468; Test loss: 3.2425\n",
      "Run  21 -- Train loss: 2.4165; Test loss: 3.2356\n",
      "Run  22 -- Train loss: 9.1619; Test loss: 13.7113\n",
      "Run  23 -- Train loss: 1.6393; Test loss: 1.8424\n",
      "Run  24 -- Train loss: 2.4477; Test loss: 3.2287\n",
      "Run  25 -- Train loss: 8.5095; Test loss: 12.3375\n",
      "Run  26 -- Train loss: 8.5109; Test loss: 12.3467\n",
      "Run  27 -- Train loss: 8.5166; Test loss: 12.3514\n",
      "Run  28 -- Train loss: 9.1619; Test loss: 13.7113\n",
      "Run  29 -- Train loss: 1.7840; Test loss: 1.7984\n",
      "Run  30 -- Train loss: 8.5101; Test loss: 12.3388\n",
      "Run  31 -- Train loss: 8.5143; Test loss: 12.3463\n",
      "Run  32 -- Train loss: 8.5103; Test loss: 12.3509\n",
      "Run  33 -- Train loss: 9.1619; Test loss: 13.7113\n",
      "Run  34 -- Train loss: 1.7681; Test loss: 1.8468\n",
      "Run  35 -- Train loss: 8.5119; Test loss: 12.3319\n",
      "Run  36 -- Train loss: 8.5118; Test loss: 12.3488\n",
      "Run  37 -- Train loss: 2.4344; Test loss: 3.3600\n",
      "Run  38 -- Train loss: 1.8009; Test loss: 1.8388\n",
      "Run  39 -- Train loss: 2.3402; Test loss: 3.2522\n",
      "Run  40 -- Train loss: 8.5131; Test loss: 12.3487\n",
      "Run  41 -- Train loss: 9.1619; Test loss: 13.7113\n",
      "Run  42 -- Train loss: 1.8004; Test loss: 1.9205\n",
      "Run  43 -- Train loss: 1.7893; Test loss: 1.8913\n",
      "Run  44 -- Train loss: 1.7255; Test loss: 1.8559\n",
      "Run  45 -- Train loss: 2.4256; Test loss: 3.2425\n",
      "Run  46 -- Train loss: 8.5175; Test loss: 12.3529\n",
      "Run  47 -- Train loss: 9.1619; Test loss: 13.7113\n",
      "Run  48 -- Train loss: 8.5125; Test loss: 12.3542\n",
      "Run  49 -- Train loss: 9.1619; Test loss: 13.7113\n",
      "Run  50 -- Train loss: 2.4503; Test loss: 3.2617\n",
      "Run  51 -- Train loss: 8.5081; Test loss: 12.3444\n",
      "Run  52 -- Train loss: 9.1619; Test loss: 13.7113\n",
      "Run  53 -- Train loss: 9.1619; Test loss: 13.7113\n",
      "Run  54 -- Train loss: 1.7934; Test loss: 1.8909\n",
      "Run  55 -- Train loss: 9.1619; Test loss: 13.7113\n",
      "Run  56 -- Train loss: 1.7017; Test loss: 1.8166\n",
      "Run  57 -- Train loss: 2.4372; Test loss: 3.2762\n",
      "Run  58 -- Train loss: 9.1619; Test loss: 13.7113\n",
      "Run  59 -- Train loss: 1.6644; Test loss: 1.8199\n",
      "Run  60 -- Train loss: 8.5093; Test loss: 12.3406\n",
      "Run  61 -- Train loss: 8.5126; Test loss: 12.3390\n",
      "Run  62 -- Train loss: 1.6853; Test loss: 1.9978\n",
      "Run  63 -- Train loss: 9.1619; Test loss: 13.7113\n",
      "Run  64 -- Train loss: 8.5097; Test loss: 12.3451\n",
      "Run  65 -- Train loss: 2.4490; Test loss: 3.1900\n",
      "Run  66 -- Train loss: 8.5080; Test loss: 12.3404\n",
      "Run  67 -- Train loss: 9.1619; Test loss: 13.7113\n",
      "Run  68 -- Train loss: 9.1619; Test loss: 13.7113\n",
      "Run  69 -- Train loss: 1.6362; Test loss: 1.7943\n",
      "Run  70 -- Train loss: 9.1619; Test loss: 13.7113\n",
      "Run  71 -- Train loss: 8.5036; Test loss: 12.3328\n",
      "Run  72 -- Train loss: 2.3694; Test loss: 3.1616\n",
      "Run  73 -- Train loss: 2.4056; Test loss: 3.1968\n",
      "Run  74 -- Train loss: 1.7951; Test loss: 1.9204\n",
      "Run  75 -- Train loss: 1.7381; Test loss: 1.8981\n",
      "Run  76 -- Train loss: 1.5196; Test loss: 1.7059\n",
      "Run  77 -- Train loss: 2.4481; Test loss: 3.2483\n",
      "Run  78 -- Train loss: 9.1619; Test loss: 13.7113\n",
      "Run  79 -- Train loss: 9.1619; Test loss: 13.7113\n",
      "Run  80 -- Train loss: 2.4290; Test loss: 3.3151\n",
      "Run  81 -- Train loss: 1.7813; Test loss: 1.8786\n",
      "Run  82 -- Train loss: 2.3816; Test loss: 3.2495\n",
      "Run  83 -- Train loss: 2.4226; Test loss: 3.1877\n",
      "Run  84 -- Train loss: 8.5132; Test loss: 12.3500\n",
      "Run  85 -- Train loss: 1.5470; Test loss: 1.8523\n",
      "Run  86 -- Train loss: 1.7509; Test loss: 1.8627\n",
      "Run  87 -- Train loss: 2.4017; Test loss: 3.2945\n",
      "Run  88 -- Train loss: 2.4642; Test loss: 3.3546\n",
      "Run  89 -- Train loss: 8.5117; Test loss: 12.3479\n",
      "Run  90 -- Train loss: 9.1619; Test loss: 13.7113\n",
      "Run  91 -- Train loss: 9.1619; Test loss: 13.7113\n",
      "Run  92 -- Train loss: 8.5148; Test loss: 12.3345\n",
      "Run  93 -- Train loss: 1.7739; Test loss: 1.8341\n",
      "Run  94 -- Train loss: 2.4023; Test loss: 3.1677\n",
      "Run  95 -- Train loss: 2.4192; Test loss: 3.2499\n",
      "Run  96 -- Train loss: 2.3288; Test loss: 3.1394\n",
      "Run  97 -- Train loss: 1.6375; Test loss: 1.6519\n",
      "Run  98 -- Train loss: 9.1619; Test loss: 13.7113\n",
      "Run  99 -- Train loss: 9.1619; Test loss: 13.7113\n",
      "Run 100 -- Train loss: 1.8084; Test loss: 1.8576\n",
      "Average --  train loss: 5.7181 +- 3.3699;  test loss: 8.1910 +- 5.2317\n"
     ]
    }
   ],
   "source": [
    "# Corre el experimento 100 veces y registra el desempeño promedio y el tiempo de ejecución\n",
    "loss = np.zeros((100, 2))\n",
    "for ind in range(100):\n",
    "  MLP = create_MLP([2, 32, 16, 8, 2], hid_activations='sigmoid', last_activation='relu')\n",
    "  MLP.compile(optimizer='sgd', loss='mse')\n",
    "  MLP.fit(x=x_train, y=y_train, batch_size=8, epochs=100, verbose=0, validation_split=0.2)\n",
    "  loss[ind, 0] = MLP.evaluate(x=x_train, y=y_train, verbose=False)\n",
    "  loss[ind, 1] = MLP.evaluate(x=x_test, y=y_test, verbose=False)\n",
    "  print(f\"Run {ind+1:3d} -- \", end='')\n",
    "  print(f\"Train loss: {loss[ind, 0]:6.4f}\", end='; ')\n",
    "  print(f\"Test loss: {loss[ind, 1]:6.4f}\")\n",
    "\n",
    "print(\"Average -- \", end='')\n",
    "print(f\" train loss: {loss[:, 0].mean():6.4f} +- {loss[:, 0].std():6.4f}\", end='; ')\n",
    "print(f\" test loss: {loss[:, 1].mean():6.4f} +- {loss[:, 1].std():6.4f}\")"
   ]
  },
  {
   "cell_type": "markdown",
   "metadata": {},
   "source": [
    "# Q5 De acuerdo con los resultados obtenidos después de correr el modelo 100 veces, ¿pareciera que el modelo es confiables/estable? ¿por qué si o por qué no?"
   ]
  },
  {
   "cell_type": "markdown",
   "metadata": {},
   "source": [
    "El modelo parece no ser estable pues tiene un comportamiento *nervioso* . Podemos ver que en cada corrida hay mucha variabilidad del error en el conjunto de entramiento tanto como en el de validación.\n",
    "\n",
    "Al final ésto lo podemos comprobar, de modo que el error promedio  en entrenamiento es $\\overline{E}_{train}=5.71$ y varianza $\\sigma^2_{train-err}=3.36^2$ y en validación error promedio \n",
    "$\\overline{E}_{test}=8.19$ y varianza $\\sigma^2_{train-err}=5.23^2$\n"
   ]
  },
  {
   "cell_type": "markdown",
   "metadata": {},
   "source": [
    "# Challenge. Now try the other way around."
   ]
  },
  {
   "cell_type": "code",
   "execution_count": 10,
   "metadata": {
    "id": "7ez2DM3YsfuT"
   },
   "outputs": [],
   "source": [
    "# Use x1=length and x2=width of the petals as input vector x,\n",
    "# and predict y1=length and y2=width of the sepals (output vector y).\n",
    "# Find a good model for this prediction problem."
   ]
  },
  {
   "cell_type": "code",
   "execution_count": null,
   "metadata": {},
   "outputs": [],
   "source": []
  }
 ],
 "metadata": {
  "colab": {
   "collapsed_sections": [],
   "name": "DL_02_MLP.ipynb",
   "provenance": []
  },
  "kernelspec": {
   "display_name": "Python 3 (ipykernel)",
   "language": "python",
   "name": "python3"
  },
  "language_info": {
   "codemirror_mode": {
    "name": "ipython",
    "version": 3
   },
   "file_extension": ".py",
   "mimetype": "text/x-python",
   "name": "python",
   "nbconvert_exporter": "python",
   "pygments_lexer": "ipython3",
   "version": "3.10.6"
  }
 },
 "nbformat": 4,
 "nbformat_minor": 4
}
